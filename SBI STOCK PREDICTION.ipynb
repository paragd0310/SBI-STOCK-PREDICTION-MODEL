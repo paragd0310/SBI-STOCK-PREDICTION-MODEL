{
 "cells": [
  {
   "cell_type": "code",
   "execution_count": 1,
   "metadata": {},
   "outputs": [],
   "source": [
    "import numpy as np\n",
    "import pandas as pd\n",
    "import matplotlib.pyplot as plt"
   ]
  },
  {
   "cell_type": "code",
   "execution_count": 2,
   "metadata": {},
   "outputs": [],
   "source": [
    "df = pd.read_csv(r'SBIN.csv')"
   ]
  },
  {
   "cell_type": "code",
   "execution_count": 3,
   "metadata": {},
   "outputs": [
    {
     "data": {
      "text/html": [
       "<div>\n",
       "<style scoped>\n",
       "    .dataframe tbody tr th:only-of-type {\n",
       "        vertical-align: middle;\n",
       "    }\n",
       "\n",
       "    .dataframe tbody tr th {\n",
       "        vertical-align: top;\n",
       "    }\n",
       "\n",
       "    .dataframe thead th {\n",
       "        text-align: right;\n",
       "    }\n",
       "</style>\n",
       "<table border=\"1\" class=\"dataframe\">\n",
       "  <thead>\n",
       "    <tr style=\"text-align: right;\">\n",
       "      <th></th>\n",
       "      <th>Date</th>\n",
       "      <th>Open</th>\n",
       "      <th>High</th>\n",
       "      <th>Low</th>\n",
       "      <th>Close</th>\n",
       "      <th>Adj Close</th>\n",
       "      <th>Volume</th>\n",
       "    </tr>\n",
       "  </thead>\n",
       "  <tbody>\n",
       "    <tr>\n",
       "      <th>0</th>\n",
       "      <td>04-01-2010</td>\n",
       "      <td>227.500000</td>\n",
       "      <td>230.000000</td>\n",
       "      <td>227.500000</td>\n",
       "      <td>229.119995</td>\n",
       "      <td>95.066895</td>\n",
       "      <td>11031470</td>\n",
       "    </tr>\n",
       "    <tr>\n",
       "      <th>1</th>\n",
       "      <td>05-01-2010</td>\n",
       "      <td>230.800003</td>\n",
       "      <td>231.000000</td>\n",
       "      <td>228.009995</td>\n",
       "      <td>229.205002</td>\n",
       "      <td>95.102180</td>\n",
       "      <td>11613740</td>\n",
       "    </tr>\n",
       "    <tr>\n",
       "      <th>2</th>\n",
       "      <td>06-01-2010</td>\n",
       "      <td>229.699997</td>\n",
       "      <td>231.500000</td>\n",
       "      <td>228.500000</td>\n",
       "      <td>230.580002</td>\n",
       "      <td>95.672699</td>\n",
       "      <td>14527930</td>\n",
       "    </tr>\n",
       "    <tr>\n",
       "      <th>3</th>\n",
       "      <td>07-01-2010</td>\n",
       "      <td>230.600006</td>\n",
       "      <td>231.000000</td>\n",
       "      <td>228.110001</td>\n",
       "      <td>229.289993</td>\n",
       "      <td>95.137444</td>\n",
       "      <td>8576510</td>\n",
       "    </tr>\n",
       "    <tr>\n",
       "      <th>4</th>\n",
       "      <td>08-01-2010</td>\n",
       "      <td>229.399994</td>\n",
       "      <td>230.389999</td>\n",
       "      <td>228.009995</td>\n",
       "      <td>228.604996</td>\n",
       "      <td>94.853218</td>\n",
       "      <td>10453820</td>\n",
       "    </tr>\n",
       "  </tbody>\n",
       "</table>\n",
       "</div>"
      ],
      "text/plain": [
       "         Date        Open        High         Low       Close  Adj Close  \\\n",
       "0  04-01-2010  227.500000  230.000000  227.500000  229.119995  95.066895   \n",
       "1  05-01-2010  230.800003  231.000000  228.009995  229.205002  95.102180   \n",
       "2  06-01-2010  229.699997  231.500000  228.500000  230.580002  95.672699   \n",
       "3  07-01-2010  230.600006  231.000000  228.110001  229.289993  95.137444   \n",
       "4  08-01-2010  229.399994  230.389999  228.009995  228.604996  94.853218   \n",
       "\n",
       "     Volume  \n",
       "0  11031470  \n",
       "1  11613740  \n",
       "2  14527930  \n",
       "3   8576510  \n",
       "4  10453820  "
      ]
     },
     "execution_count": 3,
     "metadata": {},
     "output_type": "execute_result"
    }
   ],
   "source": [
    "df.head()"
   ]
  },
  {
   "cell_type": "code",
   "execution_count": 4,
   "metadata": {},
   "outputs": [
    {
     "data": {
      "text/html": [
       "<div>\n",
       "<style scoped>\n",
       "    .dataframe tbody tr th:only-of-type {\n",
       "        vertical-align: middle;\n",
       "    }\n",
       "\n",
       "    .dataframe tbody tr th {\n",
       "        vertical-align: top;\n",
       "    }\n",
       "\n",
       "    .dataframe thead th {\n",
       "        text-align: right;\n",
       "    }\n",
       "</style>\n",
       "<table border=\"1\" class=\"dataframe\">\n",
       "  <thead>\n",
       "    <tr style=\"text-align: right;\">\n",
       "      <th></th>\n",
       "      <th>Date</th>\n",
       "      <th>Open</th>\n",
       "      <th>High</th>\n",
       "      <th>Low</th>\n",
       "      <th>Close</th>\n",
       "      <th>Adj Close</th>\n",
       "      <th>Volume</th>\n",
       "    </tr>\n",
       "  </thead>\n",
       "  <tbody>\n",
       "    <tr>\n",
       "      <th>2619</th>\n",
       "      <td>24-08-2020</td>\n",
       "      <td>200.0</td>\n",
       "      <td>202.800003</td>\n",
       "      <td>198.600006</td>\n",
       "      <td>201.449997</td>\n",
       "      <td>201.449997</td>\n",
       "      <td>53850253</td>\n",
       "    </tr>\n",
       "    <tr>\n",
       "      <th>2620</th>\n",
       "      <td>25-08-2020</td>\n",
       "      <td>204.0</td>\n",
       "      <td>208.449997</td>\n",
       "      <td>202.699997</td>\n",
       "      <td>207.949997</td>\n",
       "      <td>207.949997</td>\n",
       "      <td>105394375</td>\n",
       "    </tr>\n",
       "    <tr>\n",
       "      <th>2621</th>\n",
       "      <td>26-08-2020</td>\n",
       "      <td>208.5</td>\n",
       "      <td>210.350006</td>\n",
       "      <td>206.149994</td>\n",
       "      <td>209.850006</td>\n",
       "      <td>209.850006</td>\n",
       "      <td>66749637</td>\n",
       "    </tr>\n",
       "    <tr>\n",
       "      <th>2622</th>\n",
       "      <td>27-08-2020</td>\n",
       "      <td>210.5</td>\n",
       "      <td>216.500000</td>\n",
       "      <td>210.500000</td>\n",
       "      <td>215.649994</td>\n",
       "      <td>215.649994</td>\n",
       "      <td>80997993</td>\n",
       "    </tr>\n",
       "    <tr>\n",
       "      <th>2623</th>\n",
       "      <td>28-08-2020</td>\n",
       "      <td>217.0</td>\n",
       "      <td>225.899994</td>\n",
       "      <td>216.800003</td>\n",
       "      <td>225.399994</td>\n",
       "      <td>225.399994</td>\n",
       "      <td>95983850</td>\n",
       "    </tr>\n",
       "  </tbody>\n",
       "</table>\n",
       "</div>"
      ],
      "text/plain": [
       "            Date   Open        High         Low       Close   Adj Close  \\\n",
       "2619  24-08-2020  200.0  202.800003  198.600006  201.449997  201.449997   \n",
       "2620  25-08-2020  204.0  208.449997  202.699997  207.949997  207.949997   \n",
       "2621  26-08-2020  208.5  210.350006  206.149994  209.850006  209.850006   \n",
       "2622  27-08-2020  210.5  216.500000  210.500000  215.649994  215.649994   \n",
       "2623  28-08-2020  217.0  225.899994  216.800003  225.399994  225.399994   \n",
       "\n",
       "         Volume  \n",
       "2619   53850253  \n",
       "2620  105394375  \n",
       "2621   66749637  \n",
       "2622   80997993  \n",
       "2623   95983850  "
      ]
     },
     "execution_count": 4,
     "metadata": {},
     "output_type": "execute_result"
    }
   ],
   "source": [
    "df.tail()"
   ]
  },
  {
   "cell_type": "code",
   "execution_count": 5,
   "metadata": {},
   "outputs": [],
   "source": [
    "df1 = df.reset_index()['Close']"
   ]
  },
  {
   "cell_type": "code",
   "execution_count": 6,
   "metadata": {},
   "outputs": [
    {
     "data": {
      "text/plain": [
       "0       229.119995\n",
       "1       229.205002\n",
       "2       230.580002\n",
       "3       229.289993\n",
       "4       228.604996\n",
       "           ...    \n",
       "2619    201.449997\n",
       "2620    207.949997\n",
       "2621    209.850006\n",
       "2622    215.649994\n",
       "2623    225.399994\n",
       "Name: Close, Length: 2624, dtype: float64"
      ]
     },
     "execution_count": 6,
     "metadata": {},
     "output_type": "execute_result"
    }
   ],
   "source": [
    "df1"
   ]
  },
  {
   "cell_type": "code",
   "execution_count": 7,
   "metadata": {},
   "outputs": [
    {
     "data": {
      "text/plain": [
       "[<matplotlib.lines.Line2D at 0x2139231d708>]"
      ]
     },
     "execution_count": 7,
     "metadata": {},
     "output_type": "execute_result"
    },
    {
     "data": {
      "image/png": "[encoded data removed]",
      "text/plain": [
       "<Figure size 1152x576 with 1 Axes>"
      ]
     },
     "metadata": {
      "needs_background": "light"
     },
     "output_type": "display_data"
    }
   ],
   "source": [
    "fig, ax = plt.subplots(figsize=(16,8))\n",
    "plt.plot(df1)"
   ]
  },
  {
   "cell_type": "code",
   "execution_count": 8,
   "metadata": {},
   "outputs": [],
   "source": [
    "from sklearn.preprocessing import MinMaxScaler\n",
    "scaler = MinMaxScaler(feature_range = ( 0, 1 ))\n",
    "df2 = scaler.fit_transform(np.array(df1).reshape(-1,1))"
   ]
  },
  {
   "cell_type": "code",
   "execution_count": 9,
   "metadata": {},
   "outputs": [
    {
     "name": "stdout",
     "output_type": "stream",
     "text": [
      "[[0.36331317]\n",
      " [0.36369092]\n",
      " [0.36980094]\n",
      " ...\n",
      " [0.277684  ]\n",
      " [0.30345714]\n",
      " [0.34678277]]\n"
     ]
    }
   ],
   "source": [
    "print(df2)"
   ]
  },
  {
   "cell_type": "code",
   "execution_count": 10,
   "metadata": {},
   "outputs": [],
   "source": [
    "training_size = int(len(df2)*0.65)\n",
    "test_size = len(df2)-training_size\n",
    "train_data,test_data=df2[0:training_size,:],df2[training_size:len(df2),:1]"
   ]
  },
  {
   "cell_type": "code",
   "execution_count": 11,
   "metadata": {},
   "outputs": [
    {
     "data": {
      "text/plain": [
       "(1705, 919)"
      ]
     },
     "execution_count": 11,
     "metadata": {},
     "output_type": "execute_result"
    }
   ],
   "source": [
    "training_size,test_size"
   ]
  },
  {
   "cell_type": "code",
   "execution_count": 12,
   "metadata": {},
   "outputs": [
    {
     "data": {
      "text/plain": [
       "array([[0.36331317],\n",
       "       [0.36369092],\n",
       "       [0.36980094],\n",
       "       ...,\n",
       "       [0.47431571],\n",
       "       [0.48675789],\n",
       "       [0.49653399]])"
      ]
     },
     "execution_count": 12,
     "metadata": {},
     "output_type": "execute_result"
    }
   ],
   "source": [
    "train_data"
   ]
  },
  {
   "cell_type": "code",
   "execution_count": 13,
   "metadata": {},
   "outputs": [],
   "source": [
    "import numpy\n",
    "def create_dataset(dataset, time_step=1):\n",
    "    dataX, dataY = [], []\n",
    "    for i in range(len(dataset)-time_step-1):\n",
    "        a = dataset[i:(i+time_step), 0]   \n",
    "        dataX.append(a)\n",
    "        dataY.append(dataset[i + time_step, 0])\n",
    "    return numpy.array(dataX), numpy.array(dataY)"
   ]
  },
  {
   "cell_type": "code",
   "execution_count": 14,
   "metadata": {},
   "outputs": [],
   "source": [
    "time_step = 100\n",
    "X_train, y_train = create_dataset(train_data, time_step)\n",
    "X_test, ytest = create_dataset(test_data, time_step)"
   ]
  },
  {
   "cell_type": "code",
   "execution_count": 15,
   "metadata": {},
   "outputs": [
    {
     "name": "stdout",
     "output_type": "stream",
     "text": [
      "(1604, 100)\n",
      "(1604,)\n"
     ]
    },
    {
     "data": {
      "text/plain": [
       "(None, None)"
      ]
     },
     "execution_count": 15,
     "metadata": {},
     "output_type": "execute_result"
    }
   ],
   "source": [
    "print(X_train.shape), print(y_train.shape)"
   ]
  },
  {
   "cell_type": "code",
   "execution_count": 16,
   "metadata": {},
   "outputs": [
    {
     "name": "stdout",
     "output_type": "stream",
     "text": [
      "(818, 100)\n",
      "(818,)\n"
     ]
    },
    {
     "data": {
      "text/plain": [
       "(None, None)"
      ]
     },
     "execution_count": 16,
     "metadata": {},
     "output_type": "execute_result"
    }
   ],
   "source": [
    "print(X_test.shape), print(ytest.shape)"
   ]
  },
  {
   "cell_type": "code",
   "execution_count": 17,
   "metadata": {},
   "outputs": [],
   "source": [
    "X_train =X_train.reshape(X_train.shape[0],X_train.shape[1] , 1)\n",
    "X_test = X_test.reshape(X_test.shape[0],X_test.shape[1] , 1)"
   ]
  },
  {
   "cell_type": "code",
   "execution_count": 18,
   "metadata": {},
   "outputs": [],
   "source": [
    "import tensorflow as tf\n",
    "from tensorflow.keras.models import Sequential\n",
    "from tensorflow.keras.layers import Dense\n",
    "from tensorflow.keras.layers import LSTM\n",
    "from tensorflow.keras.layers import Dropout"
   ]
  },
  {
   "cell_type": "code",
   "execution_count": 19,
   "metadata": {},
   "outputs": [],
   "source": [
    "model=Sequential()\n",
    "model.add(LSTM(50,return_sequences=True,input_shape=(100,1)))\n",
    "model.add(Dropout(0.2))\n",
    "\n",
    "model.add(LSTM(50,return_sequences=True))\n",
    "model.add(Dropout(0.2))\n",
    "\n",
    "model.add(LSTM(50,return_sequences=True))\n",
    "model.add(Dropout(0.2))\n",
    "\n",
    "model.add(LSTM(50))\n",
    "model.add(Dropout(0.2))\n",
    "\n",
    "model.add(Dense(1))\n",
    "\n",
    "model.compile(loss='mean_squared_error',optimizer='adam')"
   ]
  },
  {
   "cell_type": "code",
   "execution_count": 20,
   "metadata": {},
   "outputs": [
    {
     "name": "stdout",
     "output_type": "stream",
     "text": [
      "Model: \"sequential\"\n",
      "_________________________________________________________________\n",
      "Layer (type)                 Output Shape              Param #   \n",
      "=================================================================\n",
      "lstm (LSTM)                  (None, 100, 50)           10400     \n",
      "_________________________________________________________________\n",
      "dropout (Dropout)            (None, 100, 50)           0         \n",
      "_________________________________________________________________\n",
      "lstm_1 (LSTM)                (None, 100, 50)           20200     \n",
      "_________________________________________________________________\n",
      "dropout_1 (Dropout)          (None, 100, 50)           0         \n",
      "_________________________________________________________________\n",
      "lstm_2 (LSTM)                (None, 100, 50)           20200     \n",
      "_________________________________________________________________\n",
      "dropout_2 (Dropout)          (None, 100, 50)           0         \n",
      "_________________________________________________________________\n",
      "lstm_3 (LSTM)                (None, 50)                20200     \n",
      "_________________________________________________________________\n",
      "dropout_3 (Dropout)          (None, 50)                0         \n",
      "_________________________________________________________________\n",
      "dense (Dense)                (None, 1)                 51        \n",
      "=================================================================\n",
      "Total params: 71,051\n",
      "Trainable params: 71,051\n",
      "Non-trainable params: 0\n",
      "_________________________________________________________________\n"
     ]
    }
   ],
   "source": [
    "model.summary()"
   ]
  },
  {
   "cell_type": "code",
   "execution_count": 21,
   "metadata": {},
   "outputs": [
    {
     "name": "stdout",
     "output_type": "stream",
     "text": [
      "Train on 1604 samples, validate on 818 samples\n",
      "Epoch 1/100\n",
      "1604/1604 [==============================] - 10s 6ms/sample - loss: 0.0377 - val_loss: 0.0261\n",
      "Epoch 2/100\n",
      "1604/1604 [==============================] - 4s 3ms/sample - loss: 0.0095 - val_loss: 0.0109\n",
      "Epoch 3/100\n",
      "1604/1604 [==============================] - 4s 3ms/sample - loss: 0.0068 - val_loss: 0.0096\n",
      "Epoch 4/100\n",
      "1604/1604 [==============================] - 5s 3ms/sample - loss: 0.0061 - val_loss: 0.0091\n",
      "Epoch 5/100\n",
      "1604/1604 [==============================] - 4s 3ms/sample - loss: 0.0056 - val_loss: 0.0075\n",
      "Epoch 6/100\n",
      "1604/1604 [==============================] - 4s 3ms/sample - loss: 0.0058 - val_loss: 0.0090\n",
      "Epoch 7/100\n",
      "1604/1604 [==============================] - 5s 3ms/sample - loss: 0.0052 - val_loss: 0.0088\n",
      "Epoch 8/100\n",
      "1604/1604 [==============================] - 4s 3ms/sample - loss: 0.0056 - val_loss: 0.0063\n",
      "Epoch 9/100\n",
      "1604/1604 [==============================] - 4s 3ms/sample - loss: 0.0046 - val_loss: 0.0097\n",
      "Epoch 10/100\n",
      "1604/1604 [==============================] - 5s 3ms/sample - loss: 0.0050 - val_loss: 0.0058\n",
      "Epoch 11/100\n",
      "1604/1604 [==============================] - 4s 3ms/sample - loss: 0.0047 - val_loss: 0.0059\n",
      "Epoch 12/100\n",
      "1604/1604 [==============================] - 4s 3ms/sample - loss: 0.0042 - val_loss: 0.0051\n",
      "Epoch 13/100\n",
      "1604/1604 [==============================] - 5s 3ms/sample - loss: 0.0042 - val_loss: 0.0059\n",
      "Epoch 14/100\n",
      "1604/1604 [==============================] - 4s 3ms/sample - loss: 0.0039 - val_loss: 0.0050\n",
      "Epoch 15/100\n",
      "1604/1604 [==============================] - 4s 3ms/sample - loss: 0.0041 - val_loss: 0.0052\n",
      "Epoch 16/100\n",
      "1604/1604 [==============================] - 4s 3ms/sample - loss: 0.0039 - val_loss: 0.0044\n",
      "Epoch 17/100\n",
      "1604/1604 [==============================] - 4s 3ms/sample - loss: 0.0039 - val_loss: 0.0108\n",
      "Epoch 18/100\n",
      "1604/1604 [==============================] - 4s 3ms/sample - loss: 0.0048 - val_loss: 0.0045\n",
      "Epoch 19/100\n",
      "1604/1604 [==============================] - 4s 3ms/sample - loss: 0.0037 - val_loss: 0.0051\n",
      "Epoch 20/100\n",
      "1604/1604 [==============================] - 5s 3ms/sample - loss: 0.0040 - val_loss: 0.0041\n",
      "Epoch 21/100\n",
      "1604/1604 [==============================] - 5s 3ms/sample - loss: 0.0035 - val_loss: 0.0041\n",
      "Epoch 22/100\n",
      "1604/1604 [==============================] - 4s 3ms/sample - loss: 0.0036 - val_loss: 0.0052\n",
      "Epoch 23/100\n",
      "1604/1604 [==============================] - 5s 3ms/sample - loss: 0.0033 - val_loss: 0.0038\n",
      "Epoch 24/100\n",
      "1604/1604 [==============================] - 4s 3ms/sample - loss: 0.0036 - val_loss: 0.0034\n",
      "Epoch 25/100\n",
      "1604/1604 [==============================] - 5s 3ms/sample - loss: 0.0036 - val_loss: 0.0062\n",
      "Epoch 26/100\n",
      "1604/1604 [==============================] - 5s 3ms/sample - loss: 0.0038 - val_loss: 0.0034\n",
      "Epoch 27/100\n",
      "1604/1604 [==============================] - 4s 3ms/sample - loss: 0.0031 - val_loss: 0.0063\n",
      "Epoch 28/100\n",
      "1604/1604 [==============================] - 4s 3ms/sample - loss: 0.0035 - val_loss: 0.0032\n",
      "Epoch 29/100\n",
      "1604/1604 [==============================] - 4s 3ms/sample - loss: 0.0034 - val_loss: 0.0031\n",
      "Epoch 30/100\n",
      "1604/1604 [==============================] - 4s 3ms/sample - loss: 0.0030 - val_loss: 0.0032\n",
      "Epoch 31/100\n",
      "1604/1604 [==============================] - 5s 3ms/sample - loss: 0.0030 - val_loss: 0.0035\n",
      "Epoch 32/100\n",
      "1604/1604 [==============================] - 4s 3ms/sample - loss: 0.0028 - val_loss: 0.0035\n",
      "Epoch 33/100\n",
      "1604/1604 [==============================] - 4s 3ms/sample - loss: 0.0028 - val_loss: 0.0028\n",
      "Epoch 34/100\n",
      "1604/1604 [==============================] - 4s 3ms/sample - loss: 0.0027 - val_loss: 0.0043\n",
      "Epoch 35/100\n",
      "1604/1604 [==============================] - 5s 3ms/sample - loss: 0.0031 - val_loss: 0.0032\n",
      "Epoch 36/100\n",
      "1604/1604 [==============================] - 5s 3ms/sample - loss: 0.0027 - val_loss: 0.0048\n",
      "Epoch 37/100\n",
      "1604/1604 [==============================] - 4s 3ms/sample - loss: 0.0031 - val_loss: 0.0037\n",
      "Epoch 38/100\n",
      "1604/1604 [==============================] - 4s 3ms/sample - loss: 0.0027 - val_loss: 0.0029\n",
      "Epoch 39/100\n",
      "1604/1604 [==============================] - 4s 3ms/sample - loss: 0.0024 - val_loss: 0.0025\n",
      "Epoch 40/100\n",
      "1604/1604 [==============================] - 4s 3ms/sample - loss: 0.0026 - val_loss: 0.0024\n",
      "Epoch 41/100\n",
      "1604/1604 [==============================] - 5s 3ms/sample - loss: 0.0024 - val_loss: 0.0024\n",
      "Epoch 42/100\n",
      "1604/1604 [==============================] - 4s 3ms/sample - loss: 0.0024 - val_loss: 0.0023\n",
      "Epoch 43/100\n",
      "1604/1604 [==============================] - 4s 3ms/sample - loss: 0.0022 - val_loss: 0.0023\n",
      "Epoch 44/100\n",
      "1604/1604 [==============================] - 4s 3ms/sample - loss: 0.0022 - val_loss: 0.0024\n",
      "Epoch 45/100\n",
      "1604/1604 [==============================] - 4s 3ms/sample - loss: 0.0024 - val_loss: 0.0026\n",
      "Epoch 46/100\n",
      "1604/1604 [==============================] - 4s 3ms/sample - loss: 0.0023 - val_loss: 0.0022\n",
      "Epoch 47/100\n",
      "1604/1604 [==============================] - 4s 3ms/sample - loss: 0.0023 - val_loss: 0.0021\n",
      "Epoch 48/100\n",
      "1604/1604 [==============================] - 4s 3ms/sample - loss: 0.0021 - val_loss: 0.0020\n",
      "Epoch 49/100\n",
      "1604/1604 [==============================] - 4s 3ms/sample - loss: 0.0027 - val_loss: 0.0056\n",
      "Epoch 50/100\n",
      "1604/1604 [==============================] - 4s 3ms/sample - loss: 0.0027 - val_loss: 0.0028\n",
      "Epoch 51/100\n",
      "1604/1604 [==============================] - 4s 3ms/sample - loss: 0.0020 - val_loss: 0.0032\n",
      "Epoch 52/100\n",
      "1604/1604 [==============================] - 4s 3ms/sample - loss: 0.0022 - val_loss: 0.0019\n",
      "Epoch 53/100\n",
      "1604/1604 [==============================] - 4s 3ms/sample - loss: 0.0020 - val_loss: 0.0028\n",
      "Epoch 54/100\n",
      "1604/1604 [==============================] - 5s 3ms/sample - loss: 0.0019 - val_loss: 0.0019\n",
      "Epoch 55/100\n",
      "1604/1604 [==============================] - 5s 3ms/sample - loss: 0.0021 - val_loss: 0.0019\n",
      "Epoch 56/100\n",
      "1604/1604 [==============================] - 4s 3ms/sample - loss: 0.0021 - val_loss: 0.0021\n",
      "Epoch 57/100\n",
      "1604/1604 [==============================] - 4s 3ms/sample - loss: 0.0019 - val_loss: 0.0021\n",
      "Epoch 58/100\n",
      "1604/1604 [==============================] - 4s 3ms/sample - loss: 0.0019 - val_loss: 0.0017\n",
      "Epoch 59/100\n",
      "1604/1604 [==============================] - 4s 3ms/sample - loss: 0.0017 - val_loss: 0.0016\n",
      "Epoch 60/100\n",
      "1604/1604 [==============================] - 4s 3ms/sample - loss: 0.0017 - val_loss: 0.0016\n",
      "Epoch 61/100\n",
      "1604/1604 [==============================] - 4s 3ms/sample - loss: 0.0017 - val_loss: 0.0016\n",
      "Epoch 62/100\n",
      "1604/1604 [==============================] - 4s 3ms/sample - loss: 0.0016 - val_loss: 0.0015\n",
      "Epoch 63/100\n",
      "1604/1604 [==============================] - 4s 3ms/sample - loss: 0.0018 - val_loss: 0.0015\n",
      "Epoch 64/100\n",
      "1604/1604 [==============================] - 4s 3ms/sample - loss: 0.0019 - val_loss: 0.0016\n",
      "Epoch 65/100\n",
      "1604/1604 [==============================] - 4s 3ms/sample - loss: 0.0019 - val_loss: 0.0015\n",
      "Epoch 66/100\n",
      "1604/1604 [==============================] - 4s 3ms/sample - loss: 0.0016 - val_loss: 0.0016\n",
      "Epoch 67/100\n",
      "1604/1604 [==============================] - 4s 3ms/sample - loss: 0.0017 - val_loss: 0.0015\n",
      "Epoch 68/100\n",
      "1604/1604 [==============================] - 4s 3ms/sample - loss: 0.0018 - val_loss: 0.0015\n",
      "Epoch 69/100\n",
      "1604/1604 [==============================] - 4s 3ms/sample - loss: 0.0017 - val_loss: 0.0017\n",
      "Epoch 70/100\n",
      "1604/1604 [==============================] - 5s 3ms/sample - loss: 0.0016 - val_loss: 0.0014\n",
      "Epoch 71/100\n",
      "1604/1604 [==============================] - 4s 3ms/sample - loss: 0.0016 - val_loss: 0.0018\n",
      "Epoch 72/100\n",
      "1604/1604 [==============================] - 4s 3ms/sample - loss: 0.0016 - val_loss: 0.0013\n",
      "Epoch 73/100\n",
      "1604/1604 [==============================] - 4s 3ms/sample - loss: 0.0015 - val_loss: 0.0013\n",
      "Epoch 74/100\n",
      "1604/1604 [==============================] - 4s 3ms/sample - loss: 0.0015 - val_loss: 0.0013\n",
      "Epoch 75/100\n",
      "1604/1604 [==============================] - 4s 3ms/sample - loss: 0.0015 - val_loss: 0.0013\n",
      "Epoch 76/100\n",
      "1604/1604 [==============================] - 4s 3ms/sample - loss: 0.0016 - val_loss: 0.0021\n",
      "Epoch 77/100\n",
      "1604/1604 [==============================] - 4s 3ms/sample - loss: 0.0017 - val_loss: 0.0024\n"
     ]
    },
    {
     "name": "stdout",
     "output_type": "stream",
     "text": [
      "Epoch 78/100\n",
      "1604/1604 [==============================] - 4s 3ms/sample - loss: 0.0017 - val_loss: 0.0019\n",
      "Epoch 79/100\n",
      "1604/1604 [==============================] - 4s 3ms/sample - loss: 0.0015 - val_loss: 0.0022\n",
      "Epoch 80/100\n",
      "1604/1604 [==============================] - 4s 3ms/sample - loss: 0.0016 - val_loss: 0.0012\n",
      "Epoch 81/100\n",
      "1604/1604 [==============================] - 4s 3ms/sample - loss: 0.0014 - val_loss: 0.0015\n",
      "Epoch 82/100\n",
      "1604/1604 [==============================] - 5s 3ms/sample - loss: 0.0015 - val_loss: 0.0013\n",
      "Epoch 83/100\n",
      "1604/1604 [==============================] - 4s 3ms/sample - loss: 0.0014 - val_loss: 0.0026\n",
      "Epoch 84/100\n",
      "1604/1604 [==============================] - 4s 3ms/sample - loss: 0.0014 - val_loss: 0.0011\n",
      "Epoch 85/100\n",
      "1604/1604 [==============================] - 5s 3ms/sample - loss: 0.0013 - val_loss: 0.0013\n",
      "Epoch 86/100\n",
      "1604/1604 [==============================] - 4s 3ms/sample - loss: 0.0014 - val_loss: 0.0013\n",
      "Epoch 87/100\n",
      "1604/1604 [==============================] - 5s 3ms/sample - loss: 0.0016 - val_loss: 0.0011\n",
      "Epoch 88/100\n",
      "1604/1604 [==============================] - 4s 3ms/sample - loss: 0.0013 - val_loss: 0.0012\n",
      "Epoch 89/100\n",
      "1604/1604 [==============================] - 4s 3ms/sample - loss: 0.0014 - val_loss: 0.0011\n",
      "Epoch 90/100\n",
      "1604/1604 [==============================] - 4s 3ms/sample - loss: 0.0014 - val_loss: 0.0011\n",
      "Epoch 91/100\n",
      "1604/1604 [==============================] - 4s 3ms/sample - loss: 0.0013 - val_loss: 0.0013\n",
      "Epoch 92/100\n",
      "1604/1604 [==============================] - 4s 3ms/sample - loss: 0.0014 - val_loss: 0.0011\n",
      "Epoch 93/100\n",
      "1604/1604 [==============================] - 4s 3ms/sample - loss: 0.0014 - val_loss: 0.0018\n",
      "Epoch 94/100\n",
      "1604/1604 [==============================] - 4s 3ms/sample - loss: 0.0013 - val_loss: 0.0011\n",
      "Epoch 95/100\n",
      "1604/1604 [==============================] - 4s 3ms/sample - loss: 0.0012 - val_loss: 0.0011\n",
      "Epoch 96/100\n",
      "1604/1604 [==============================] - 4s 3ms/sample - loss: 0.0012 - val_loss: 0.0013\n",
      "Epoch 97/100\n",
      "1604/1604 [==============================] - 4s 3ms/sample - loss: 0.0012 - val_loss: 0.0011\n",
      "Epoch 98/100\n",
      "1604/1604 [==============================] - 4s 3ms/sample - loss: 0.0013 - val_loss: 0.0024\n",
      "Epoch 99/100\n",
      "1604/1604 [==============================] - 4s 3ms/sample - loss: 0.0015 - val_loss: 0.0011\n",
      "Epoch 100/100\n",
      "1604/1604 [==============================] - 4s 3ms/sample - loss: 0.0013 - val_loss: 0.0014\n"
     ]
    },
    {
     "data": {
      "text/plain": [
       "<tensorflow.python.keras.callbacks.History at 0x1b4e8a5c1c8>"
      ]
     },
     "execution_count": 21,
     "metadata": {},
     "output_type": "execute_result"
    }
   ],
   "source": [
    "model.fit(X_train,y_train,validation_data=(X_test,ytest),epochs=100,batch_size=64,verbose=1)"
   ]
  },
  {
   "cell_type": "code",
   "execution_count": 22,
   "metadata": {},
   "outputs": [],
   "source": [
    "train_predict=model.predict(X_train)\n",
    "test_predict=model.predict(X_test)"
   ]
  },
  {
   "cell_type": "code",
   "execution_count": 23,
   "metadata": {},
   "outputs": [],
   "source": [
    "train_predict=scaler.inverse_transform(train_predict)\n",
    "test_predict=scaler.inverse_transform(test_predict)"
   ]
  },
  {
   "cell_type": "code",
   "execution_count": 24,
   "metadata": {},
   "outputs": [
    {
     "data": {
      "text/plain": [
       "232.82805433786893"
      ]
     },
     "execution_count": 24,
     "metadata": {},
     "output_type": "execute_result"
    }
   ],
   "source": [
    "import math\n",
    "from sklearn.metrics import mean_squared_error\n",
    "math.sqrt(mean_squared_error(y_train,train_predict))"
   ]
  },
  {
   "cell_type": "code",
   "execution_count": 25,
   "metadata": {},
   "outputs": [
    {
     "data": {
      "text/plain": [
       "277.4926790748273"
      ]
     },
     "execution_count": 25,
     "metadata": {},
     "output_type": "execute_result"
    }
   ],
   "source": [
    "math.sqrt(mean_squared_error(ytest,test_predict))"
   ]
  },
  {
   "cell_type": "code",
   "execution_count": 26,
   "metadata": {},
   "outputs": [
    {
     "data": {
      "image/png": "[encoded data removed]",
      "text/plain": [
       "<Figure size 1152x576 with 1 Axes>"
      ]
     },
     "metadata": {
      "needs_background": "light"
     },
     "output_type": "display_data"
    }
   ],
   "source": [
    "look_back=100\n",
    "trainPredictPlot = numpy.empty_like(df2)\n",
    "trainPredictPlot[:, :] = np.nan\n",
    "trainPredictPlot[look_back:len(train_predict)+look_back, :] = train_predict\n",
    "testPredictPlot = numpy.empty_like(df2)\n",
    "testPredictPlot[:, :] = numpy.nan\n",
    "testPredictPlot[len(train_predict)+(look_back*2)+1:len(df1)-1, :] = test_predict\n",
    "fig, ax = plt.subplots(figsize=(16,8))\n",
    "plt.plot(scaler.inverse_transform(df2))\n",
    "plt.plot(trainPredictPlot)\n",
    "plt.plot(testPredictPlot)\n",
    "plt.show()"
   ]
  },
  {
   "cell_type": "code",
   "execution_count": 27,
   "metadata": {},
   "outputs": [
    {
     "data": {
      "text/plain": [
       "919"
      ]
     },
     "execution_count": 27,
     "metadata": {},
     "output_type": "execute_result"
    }
   ],
   "source": [
    "len(test_data)"
   ]
  },
  {
   "cell_type": "code",
   "execution_count": 28,
   "metadata": {},
   "outputs": [
    {
     "data": {
      "text/plain": [
       "(1, 100)"
      ]
     },
     "execution_count": 28,
     "metadata": {},
     "output_type": "execute_result"
    }
   ],
   "source": [
    "x_input=test_data[819:].reshape(1,-1)\n",
    "x_input.shape"
   ]
  },
  {
   "cell_type": "code",
   "execution_count": 29,
   "metadata": {},
   "outputs": [],
   "source": [
    "temp_input=list(x_input)\n",
    "temp_input=temp_input[0].tolist()"
   ]
  },
  {
   "cell_type": "code",
   "execution_count": 30,
   "metadata": {},
   "outputs": [
    {
     "data": {
      "text/plain": [
       "[0.1734802444648138,\n",
       " 0.15837184548792627,\n",
       " 0.179479204836271,\n",
       " 0.16059367278775194,\n",
       " 0.15548349666008032,\n",
       " 0.18281194578600968,\n",
       " 0.20391930513435452,\n",
       " 0.20058656418461585,\n",
       " 0.1661482410373164,\n",
       " 0.18370066337497615,\n",
       " 0.17481335417567312,\n",
       " 0.14392996803905866,\n",
       " 0.1490401441667304,\n",
       " 0.16414860979843704,\n",
       " 0.18992181980737977,\n",
       " 0.1916992549853127,\n",
       " 0.13993070556129994,\n",
       " 0.10238177087038924,\n",
       " 0.1054923824140005,\n",
       " 0.10393707664219487,\n",
       " 0.08571806612169597,\n",
       " 0.08038569393307793,\n",
       " 0.08682897977160886,\n",
       " 0.1188233462129552,\n",
       " 0.09149483043220674,\n",
       " 0.08460715247178308,\n",
       " 0.035282626408542406,\n",
       " 0.024173489909413592,\n",
       " 0.026839642676313002,\n",
       " 0.02039635683778218,\n",
       " 0.015508376771056875,\n",
       " 0.017952333477009974,\n",
       " 0.04994669991835632,\n",
       " 0.04816919808560427,\n",
       " 0.0619445540064516,\n",
       " 0.10082653175340262,\n",
       " 0.10171524934236909,\n",
       " 0.12237821656882109,\n",
       " 0.11860115015200878,\n",
       " 0.17970140089721742,\n",
       " 0.17525774629756585,\n",
       " 0.1648151313264571,\n",
       " 0.17925700877532458,\n",
       " 0.13237643941803712,\n",
       " 0.14126374861734015,\n",
       " 0.11704584438020305,\n",
       " 0.11349090736951806,\n",
       " 0.11371310343046448,\n",
       " 0.14348557591716593,\n",
       " 0.1650373273874035,\n",
       " 0.17925700877532458,\n",
       " 0.20036436812366942,\n",
       " 0.16548171950929635,\n",
       " 0.1683700683371422,\n",
       " 0.16548171950929635,\n",
       " 0.141708140739233,\n",
       " 0.1381532037285479,\n",
       " 0.16637043709826282,\n",
       " 0.16925878592610866,\n",
       " 0.16592604497636998,\n",
       " 0.18081231454713032,\n",
       " 0.1832563379079024,\n",
       " 0.19792034476289733,\n",
       " 0.22991471120424356,\n",
       " 0.21436192010546318,\n",
       " 0.20147528177358232,\n",
       " 0.17192500534782718,\n",
       " 0.16192678249861125,\n",
       " 0.17281372293679376,\n",
       " 0.18147883607515036,\n",
       " 0.1928101686352256,\n",
       " 0.20902948126202614,\n",
       " 0.19836473688479006,\n",
       " 0.22613757813261215,\n",
       " 0.19814254082384364,\n",
       " 0.17681298541455248,\n",
       " 0.18703340432471482,\n",
       " 0.19480979987410496,\n",
       " 0.17414683264765296,\n",
       " 0.19592071352401785,\n",
       " 0.19947565053470295,\n",
       " 0.19658730170685712,\n",
       " 0.19592071352401785,\n",
       " 0.19369888622419218,\n",
       " 0.19236577651333286,\n",
       " 0.20636332849512662,\n",
       " 0.21191789674469108,\n",
       " 0.2485780471918163,\n",
       " 0.2423568907594127,\n",
       " 0.218361182583222,\n",
       " 0.20325278360633436,\n",
       " 0.2121400928056375,\n",
       " 0.2208052059439941,\n",
       " 0.21058478703383177,\n",
       " 0.2268040996606323,\n",
       " 0.24035725952053333,\n",
       " 0.2692410144182683,\n",
       " 0.2776839981504976,\n",
       " 0.30345714150462133,\n",
       " 0.3467827738512239]"
      ]
     },
     "execution_count": 30,
     "metadata": {},
     "output_type": "execute_result"
    }
   ],
   "source": [
    "temp_input"
   ]
  },
  {
   "cell_type": "code",
   "execution_count": 31,
   "metadata": {},
   "outputs": [
    {
     "name": "stdout",
     "output_type": "stream",
     "text": [
      "[0.32534283]\n",
      "101\n",
      "1 day input [0.15837185 0.1794792  0.16059367 0.1554835  0.18281195 0.20391931\n",
      " 0.20058656 0.16614824 0.18370066 0.17481335 0.14392997 0.14904014\n",
      " 0.16414861 0.18992182 0.19169925 0.13993071 0.10238177 0.10549238\n",
      " 0.10393708 0.08571807 0.08038569 0.08682898 0.11882335 0.09149483\n",
      " 0.08460715 0.03528263 0.02417349 0.02683964 0.02039636 0.01550838\n",
      " 0.01795233 0.0499467  0.0481692  0.06194455 0.10082653 0.10171525\n",
      " 0.12237822 0.11860115 0.1797014  0.17525775 0.16481513 0.17925701\n",
      " 0.13237644 0.14126375 0.11704584 0.11349091 0.1137131  0.14348558\n",
      " 0.16503733 0.17925701 0.20036437 0.16548172 0.16837007 0.16548172\n",
      " 0.14170814 0.1381532  0.16637044 0.16925879 0.16592604 0.18081231\n",
      " 0.18325634 0.19792034 0.22991471 0.21436192 0.20147528 0.17192501\n",
      " 0.16192678 0.17281372 0.18147884 0.19281017 0.20902948 0.19836474\n",
      " 0.22613758 0.19814254 0.17681299 0.1870334  0.1948098  0.17414683\n",
      " 0.19592071 0.19947565 0.1965873  0.19592071 0.19369889 0.19236578\n",
      " 0.20636333 0.2119179  0.24857805 0.24235689 0.21836118 0.20325278\n",
      " 0.21214009 0.22080521 0.21058479 0.2268041  0.24035726 0.26924101\n",
      " 0.277684   0.30345714 0.34678277 0.32534283]\n",
      "1 day output [[0.3324407]]\n",
      "2 day input [0.1794792  0.16059367 0.1554835  0.18281195 0.20391931 0.20058656\n",
      " 0.16614824 0.18370066 0.17481335 0.14392997 0.14904014 0.16414861\n",
      " 0.18992182 0.19169925 0.13993071 0.10238177 0.10549238 0.10393708\n",
      " 0.08571807 0.08038569 0.08682898 0.11882335 0.09149483 0.08460715\n",
      " 0.03528263 0.02417349 0.02683964 0.02039636 0.01550838 0.01795233\n",
      " 0.0499467  0.0481692  0.06194455 0.10082653 0.10171525 0.12237822\n",
      " 0.11860115 0.1797014  0.17525775 0.16481513 0.17925701 0.13237644\n",
      " 0.14126375 0.11704584 0.11349091 0.1137131  0.14348558 0.16503733\n",
      " 0.17925701 0.20036437 0.16548172 0.16837007 0.16548172 0.14170814\n",
      " 0.1381532  0.16637044 0.16925879 0.16592604 0.18081231 0.18325634\n",
      " 0.19792034 0.22991471 0.21436192 0.20147528 0.17192501 0.16192678\n",
      " 0.17281372 0.18147884 0.19281017 0.20902948 0.19836474 0.22613758\n",
      " 0.19814254 0.17681299 0.1870334  0.1948098  0.17414683 0.19592071\n",
      " 0.19947565 0.1965873  0.19592071 0.19369889 0.19236578 0.20636333\n",
      " 0.2119179  0.24857805 0.24235689 0.21836118 0.20325278 0.21214009\n",
      " 0.22080521 0.21058479 0.2268041  0.24035726 0.26924101 0.277684\n",
      " 0.30345714 0.34678277 0.32534283 0.3324407 ]\n",
      "2 day output [[0.33187872]]\n",
      "3 day input [0.16059367 0.1554835  0.18281195 0.20391931 0.20058656 0.16614824\n",
      " 0.18370066 0.17481335 0.14392997 0.14904014 0.16414861 0.18992182\n",
      " 0.19169925 0.13993071 0.10238177 0.10549238 0.10393708 0.08571807\n",
      " 0.08038569 0.08682898 0.11882335 0.09149483 0.08460715 0.03528263\n",
      " 0.02417349 0.02683964 0.02039636 0.01550838 0.01795233 0.0499467\n",
      " 0.0481692  0.06194455 0.10082653 0.10171525 0.12237822 0.11860115\n",
      " 0.1797014  0.17525775 0.16481513 0.17925701 0.13237644 0.14126375\n",
      " 0.11704584 0.11349091 0.1137131  0.14348558 0.16503733 0.17925701\n",
      " 0.20036437 0.16548172 0.16837007 0.16548172 0.14170814 0.1381532\n",
      " 0.16637044 0.16925879 0.16592604 0.18081231 0.18325634 0.19792034\n",
      " 0.22991471 0.21436192 0.20147528 0.17192501 0.16192678 0.17281372\n",
      " 0.18147884 0.19281017 0.20902948 0.19836474 0.22613758 0.19814254\n",
      " 0.17681299 0.1870334  0.1948098  0.17414683 0.19592071 0.19947565\n",
      " 0.1965873  0.19592071 0.19369889 0.19236578 0.20636333 0.2119179\n",
      " 0.24857805 0.24235689 0.21836118 0.20325278 0.21214009 0.22080521\n",
      " 0.21058479 0.2268041  0.24035726 0.26924101 0.277684   0.30345714\n",
      " 0.34678277 0.32534283 0.3324407  0.33187872]\n",
      "3 day output [[0.33090186]]\n",
      "4 day input [0.1554835  0.18281195 0.20391931 0.20058656 0.16614824 0.18370066\n",
      " 0.17481335 0.14392997 0.14904014 0.16414861 0.18992182 0.19169925\n",
      " 0.13993071 0.10238177 0.10549238 0.10393708 0.08571807 0.08038569\n",
      " 0.08682898 0.11882335 0.09149483 0.08460715 0.03528263 0.02417349\n",
      " 0.02683964 0.02039636 0.01550838 0.01795233 0.0499467  0.0481692\n",
      " 0.06194455 0.10082653 0.10171525 0.12237822 0.11860115 0.1797014\n",
      " 0.17525775 0.16481513 0.17925701 0.13237644 0.14126375 0.11704584\n",
      " 0.11349091 0.1137131  0.14348558 0.16503733 0.17925701 0.20036437\n",
      " 0.16548172 0.16837007 0.16548172 0.14170814 0.1381532  0.16637044\n",
      " 0.16925879 0.16592604 0.18081231 0.18325634 0.19792034 0.22991471\n",
      " 0.21436192 0.20147528 0.17192501 0.16192678 0.17281372 0.18147884\n",
      " 0.19281017 0.20902948 0.19836474 0.22613758 0.19814254 0.17681299\n",
      " 0.1870334  0.1948098  0.17414683 0.19592071 0.19947565 0.1965873\n",
      " 0.19592071 0.19369889 0.19236578 0.20636333 0.2119179  0.24857805\n",
      " 0.24235689 0.21836118 0.20325278 0.21214009 0.22080521 0.21058479\n",
      " 0.2268041  0.24035726 0.26924101 0.277684   0.30345714 0.34678277\n",
      " 0.32534283 0.3324407  0.33187872 0.33090186]\n",
      "4 day output [[0.33078006]]\n",
      "5 day input [0.18281195 0.20391931 0.20058656 0.16614824 0.18370066 0.17481335\n",
      " 0.14392997 0.14904014 0.16414861 0.18992182 0.19169925 0.13993071\n",
      " 0.10238177 0.10549238 0.10393708 0.08571807 0.08038569 0.08682898\n",
      " 0.11882335 0.09149483 0.08460715 0.03528263 0.02417349 0.02683964\n",
      " 0.02039636 0.01550838 0.01795233 0.0499467  0.0481692  0.06194455\n",
      " 0.10082653 0.10171525 0.12237822 0.11860115 0.1797014  0.17525775\n",
      " 0.16481513 0.17925701 0.13237644 0.14126375 0.11704584 0.11349091\n",
      " 0.1137131  0.14348558 0.16503733 0.17925701 0.20036437 0.16548172\n",
      " 0.16837007 0.16548172 0.14170814 0.1381532  0.16637044 0.16925879\n",
      " 0.16592604 0.18081231 0.18325634 0.19792034 0.22991471 0.21436192\n",
      " 0.20147528 0.17192501 0.16192678 0.17281372 0.18147884 0.19281017\n",
      " 0.20902948 0.19836474 0.22613758 0.19814254 0.17681299 0.1870334\n",
      " 0.1948098  0.17414683 0.19592071 0.19947565 0.1965873  0.19592071\n",
      " 0.19369889 0.19236578 0.20636333 0.2119179  0.24857805 0.24235689\n",
      " 0.21836118 0.20325278 0.21214009 0.22080521 0.21058479 0.2268041\n",
      " 0.24035726 0.26924101 0.277684   0.30345714 0.34678277 0.32534283\n",
      " 0.3324407  0.33187872 0.33090186 0.33078006]\n",
      "5 day output [[0.33146742]]\n",
      "6 day input [0.20391931 0.20058656 0.16614824 0.18370066 0.17481335 0.14392997\n",
      " 0.14904014 0.16414861 0.18992182 0.19169925 0.13993071 0.10238177\n",
      " 0.10549238 0.10393708 0.08571807 0.08038569 0.08682898 0.11882335\n",
      " 0.09149483 0.08460715 0.03528263 0.02417349 0.02683964 0.02039636\n",
      " 0.01550838 0.01795233 0.0499467  0.0481692  0.06194455 0.10082653\n",
      " 0.10171525 0.12237822 0.11860115 0.1797014  0.17525775 0.16481513\n",
      " 0.17925701 0.13237644 0.14126375 0.11704584 0.11349091 0.1137131\n",
      " 0.14348558 0.16503733 0.17925701 0.20036437 0.16548172 0.16837007\n",
      " 0.16548172 0.14170814 0.1381532  0.16637044 0.16925879 0.16592604\n",
      " 0.18081231 0.18325634 0.19792034 0.22991471 0.21436192 0.20147528\n",
      " 0.17192501 0.16192678 0.17281372 0.18147884 0.19281017 0.20902948\n",
      " 0.19836474 0.22613758 0.19814254 0.17681299 0.1870334  0.1948098\n",
      " 0.17414683 0.19592071 0.19947565 0.1965873  0.19592071 0.19369889\n",
      " 0.19236578 0.20636333 0.2119179  0.24857805 0.24235689 0.21836118\n",
      " 0.20325278 0.21214009 0.22080521 0.21058479 0.2268041  0.24035726\n",
      " 0.26924101 0.277684   0.30345714 0.34678277 0.32534283 0.3324407\n",
      " 0.33187872 0.33090186 0.33078006 0.33146742]\n",
      "6 day output [[0.33262736]]\n",
      "7 day input [0.20058656 0.16614824 0.18370066 0.17481335 0.14392997 0.14904014\n",
      " 0.16414861 0.18992182 0.19169925 0.13993071 0.10238177 0.10549238\n",
      " 0.10393708 0.08571807 0.08038569 0.08682898 0.11882335 0.09149483\n",
      " 0.08460715 0.03528263 0.02417349 0.02683964 0.02039636 0.01550838\n",
      " 0.01795233 0.0499467  0.0481692  0.06194455 0.10082653 0.10171525\n",
      " 0.12237822 0.11860115 0.1797014  0.17525775 0.16481513 0.17925701\n",
      " 0.13237644 0.14126375 0.11704584 0.11349091 0.1137131  0.14348558\n",
      " 0.16503733 0.17925701 0.20036437 0.16548172 0.16837007 0.16548172\n",
      " 0.14170814 0.1381532  0.16637044 0.16925879 0.16592604 0.18081231\n",
      " 0.18325634 0.19792034 0.22991471 0.21436192 0.20147528 0.17192501\n",
      " 0.16192678 0.17281372 0.18147884 0.19281017 0.20902948 0.19836474\n",
      " 0.22613758 0.19814254 0.17681299 0.1870334  0.1948098  0.17414683\n",
      " 0.19592071 0.19947565 0.1965873  0.19592071 0.19369889 0.19236578\n",
      " 0.20636333 0.2119179  0.24857805 0.24235689 0.21836118 0.20325278\n",
      " 0.21214009 0.22080521 0.21058479 0.2268041  0.24035726 0.26924101\n",
      " 0.277684   0.30345714 0.34678277 0.32534283 0.3324407  0.33187872\n",
      " 0.33090186 0.33078006 0.33146742 0.33262736]\n",
      "7 day output [[0.33386117]]\n",
      "8 day input [0.16614824 0.18370066 0.17481335 0.14392997 0.14904014 0.16414861\n",
      " 0.18992182 0.19169925 0.13993071 0.10238177 0.10549238 0.10393708\n",
      " 0.08571807 0.08038569 0.08682898 0.11882335 0.09149483 0.08460715\n",
      " 0.03528263 0.02417349 0.02683964 0.02039636 0.01550838 0.01795233\n",
      " 0.0499467  0.0481692  0.06194455 0.10082653 0.10171525 0.12237822\n",
      " 0.11860115 0.1797014  0.17525775 0.16481513 0.17925701 0.13237644\n",
      " 0.14126375 0.11704584 0.11349091 0.1137131  0.14348558 0.16503733\n",
      " 0.17925701 0.20036437 0.16548172 0.16837007 0.16548172 0.14170814\n",
      " 0.1381532  0.16637044 0.16925879 0.16592604 0.18081231 0.18325634\n",
      " 0.19792034 0.22991471 0.21436192 0.20147528 0.17192501 0.16192678\n",
      " 0.17281372 0.18147884 0.19281017 0.20902948 0.19836474 0.22613758\n",
      " 0.19814254 0.17681299 0.1870334  0.1948098  0.17414683 0.19592071\n",
      " 0.19947565 0.1965873  0.19592071 0.19369889 0.19236578 0.20636333\n",
      " 0.2119179  0.24857805 0.24235689 0.21836118 0.20325278 0.21214009\n",
      " 0.22080521 0.21058479 0.2268041  0.24035726 0.26924101 0.277684\n",
      " 0.30345714 0.34678277 0.32534283 0.3324407  0.33187872 0.33090186\n",
      " 0.33078006 0.33146742 0.33262736 0.33386117]\n"
     ]
    },
    {
     "name": "stdout",
     "output_type": "stream",
     "text": [
      "8 day output [[0.3348476]]\n",
      "9 day input [0.18370066 0.17481335 0.14392997 0.14904014 0.16414861 0.18992182\n",
      " 0.19169925 0.13993071 0.10238177 0.10549238 0.10393708 0.08571807\n",
      " 0.08038569 0.08682898 0.11882335 0.09149483 0.08460715 0.03528263\n",
      " 0.02417349 0.02683964 0.02039636 0.01550838 0.01795233 0.0499467\n",
      " 0.0481692  0.06194455 0.10082653 0.10171525 0.12237822 0.11860115\n",
      " 0.1797014  0.17525775 0.16481513 0.17925701 0.13237644 0.14126375\n",
      " 0.11704584 0.11349091 0.1137131  0.14348558 0.16503733 0.17925701\n",
      " 0.20036437 0.16548172 0.16837007 0.16548172 0.14170814 0.1381532\n",
      " 0.16637044 0.16925879 0.16592604 0.18081231 0.18325634 0.19792034\n",
      " 0.22991471 0.21436192 0.20147528 0.17192501 0.16192678 0.17281372\n",
      " 0.18147884 0.19281017 0.20902948 0.19836474 0.22613758 0.19814254\n",
      " 0.17681299 0.1870334  0.1948098  0.17414683 0.19592071 0.19947565\n",
      " 0.1965873  0.19592071 0.19369889 0.19236578 0.20636333 0.2119179\n",
      " 0.24857805 0.24235689 0.21836118 0.20325278 0.21214009 0.22080521\n",
      " 0.21058479 0.2268041  0.24035726 0.26924101 0.277684   0.30345714\n",
      " 0.34678277 0.32534283 0.3324407  0.33187872 0.33090186 0.33078006\n",
      " 0.33146742 0.33262736 0.33386117 0.3348476 ]\n",
      "9 day output [[0.33541393]]\n",
      "10 day input [0.17481335 0.14392997 0.14904014 0.16414861 0.18992182 0.19169925\n",
      " 0.13993071 0.10238177 0.10549238 0.10393708 0.08571807 0.08038569\n",
      " 0.08682898 0.11882335 0.09149483 0.08460715 0.03528263 0.02417349\n",
      " 0.02683964 0.02039636 0.01550838 0.01795233 0.0499467  0.0481692\n",
      " 0.06194455 0.10082653 0.10171525 0.12237822 0.11860115 0.1797014\n",
      " 0.17525775 0.16481513 0.17925701 0.13237644 0.14126375 0.11704584\n",
      " 0.11349091 0.1137131  0.14348558 0.16503733 0.17925701 0.20036437\n",
      " 0.16548172 0.16837007 0.16548172 0.14170814 0.1381532  0.16637044\n",
      " 0.16925879 0.16592604 0.18081231 0.18325634 0.19792034 0.22991471\n",
      " 0.21436192 0.20147528 0.17192501 0.16192678 0.17281372 0.18147884\n",
      " 0.19281017 0.20902948 0.19836474 0.22613758 0.19814254 0.17681299\n",
      " 0.1870334  0.1948098  0.17414683 0.19592071 0.19947565 0.1965873\n",
      " 0.19592071 0.19369889 0.19236578 0.20636333 0.2119179  0.24857805\n",
      " 0.24235689 0.21836118 0.20325278 0.21214009 0.22080521 0.21058479\n",
      " 0.2268041  0.24035726 0.26924101 0.277684   0.30345714 0.34678277\n",
      " 0.32534283 0.3324407  0.33187872 0.33090186 0.33078006 0.33146742\n",
      " 0.33262736 0.33386117 0.3348476  0.33541393]\n",
      "10 day output [[0.33553466]]\n",
      "11 day input [0.14392997 0.14904014 0.16414861 0.18992182 0.19169925 0.13993071\n",
      " 0.10238177 0.10549238 0.10393708 0.08571807 0.08038569 0.08682898\n",
      " 0.11882335 0.09149483 0.08460715 0.03528263 0.02417349 0.02683964\n",
      " 0.02039636 0.01550838 0.01795233 0.0499467  0.0481692  0.06194455\n",
      " 0.10082653 0.10171525 0.12237822 0.11860115 0.1797014  0.17525775\n",
      " 0.16481513 0.17925701 0.13237644 0.14126375 0.11704584 0.11349091\n",
      " 0.1137131  0.14348558 0.16503733 0.17925701 0.20036437 0.16548172\n",
      " 0.16837007 0.16548172 0.14170814 0.1381532  0.16637044 0.16925879\n",
      " 0.16592604 0.18081231 0.18325634 0.19792034 0.22991471 0.21436192\n",
      " 0.20147528 0.17192501 0.16192678 0.17281372 0.18147884 0.19281017\n",
      " 0.20902948 0.19836474 0.22613758 0.19814254 0.17681299 0.1870334\n",
      " 0.1948098  0.17414683 0.19592071 0.19947565 0.1965873  0.19592071\n",
      " 0.19369889 0.19236578 0.20636333 0.2119179  0.24857805 0.24235689\n",
      " 0.21836118 0.20325278 0.21214009 0.22080521 0.21058479 0.2268041\n",
      " 0.24035726 0.26924101 0.277684   0.30345714 0.34678277 0.32534283\n",
      " 0.3324407  0.33187872 0.33090186 0.33078006 0.33146742 0.33262736\n",
      " 0.33386117 0.3348476  0.33541393 0.33553466]\n",
      "11 day output [[0.33528638]]\n",
      "12 day input [0.14904014 0.16414861 0.18992182 0.19169925 0.13993071 0.10238177\n",
      " 0.10549238 0.10393708 0.08571807 0.08038569 0.08682898 0.11882335\n",
      " 0.09149483 0.08460715 0.03528263 0.02417349 0.02683964 0.02039636\n",
      " 0.01550838 0.01795233 0.0499467  0.0481692  0.06194455 0.10082653\n",
      " 0.10171525 0.12237822 0.11860115 0.1797014  0.17525775 0.16481513\n",
      " 0.17925701 0.13237644 0.14126375 0.11704584 0.11349091 0.1137131\n",
      " 0.14348558 0.16503733 0.17925701 0.20036437 0.16548172 0.16837007\n",
      " 0.16548172 0.14170814 0.1381532  0.16637044 0.16925879 0.16592604\n",
      " 0.18081231 0.18325634 0.19792034 0.22991471 0.21436192 0.20147528\n",
      " 0.17192501 0.16192678 0.17281372 0.18147884 0.19281017 0.20902948\n",
      " 0.19836474 0.22613758 0.19814254 0.17681299 0.1870334  0.1948098\n",
      " 0.17414683 0.19592071 0.19947565 0.1965873  0.19592071 0.19369889\n",
      " 0.19236578 0.20636333 0.2119179  0.24857805 0.24235689 0.21836118\n",
      " 0.20325278 0.21214009 0.22080521 0.21058479 0.2268041  0.24035726\n",
      " 0.26924101 0.277684   0.30345714 0.34678277 0.32534283 0.3324407\n",
      " 0.33187872 0.33090186 0.33078006 0.33146742 0.33262736 0.33386117\n",
      " 0.3348476  0.33541393 0.33553466 0.33528638]\n",
      "12 day output [[0.33479124]]\n",
      "13 day input [0.16414861 0.18992182 0.19169925 0.13993071 0.10238177 0.10549238\n",
      " 0.10393708 0.08571807 0.08038569 0.08682898 0.11882335 0.09149483\n",
      " 0.08460715 0.03528263 0.02417349 0.02683964 0.02039636 0.01550838\n",
      " 0.01795233 0.0499467  0.0481692  0.06194455 0.10082653 0.10171525\n",
      " 0.12237822 0.11860115 0.1797014  0.17525775 0.16481513 0.17925701\n",
      " 0.13237644 0.14126375 0.11704584 0.11349091 0.1137131  0.14348558\n",
      " 0.16503733 0.17925701 0.20036437 0.16548172 0.16837007 0.16548172\n",
      " 0.14170814 0.1381532  0.16637044 0.16925879 0.16592604 0.18081231\n",
      " 0.18325634 0.19792034 0.22991471 0.21436192 0.20147528 0.17192501\n",
      " 0.16192678 0.17281372 0.18147884 0.19281017 0.20902948 0.19836474\n",
      " 0.22613758 0.19814254 0.17681299 0.1870334  0.1948098  0.17414683\n",
      " 0.19592071 0.19947565 0.1965873  0.19592071 0.19369889 0.19236578\n",
      " 0.20636333 0.2119179  0.24857805 0.24235689 0.21836118 0.20325278\n",
      " 0.21214009 0.22080521 0.21058479 0.2268041  0.24035726 0.26924101\n",
      " 0.277684   0.30345714 0.34678277 0.32534283 0.3324407  0.33187872\n",
      " 0.33090186 0.33078006 0.33146742 0.33262736 0.33386117 0.3348476\n",
      " 0.33541393 0.33553466 0.33528638 0.33479124]\n",
      "13 day output [[0.3341705]]\n",
      "14 day input [0.18992182 0.19169925 0.13993071 0.10238177 0.10549238 0.10393708\n",
      " 0.08571807 0.08038569 0.08682898 0.11882335 0.09149483 0.08460715\n",
      " 0.03528263 0.02417349 0.02683964 0.02039636 0.01550838 0.01795233\n",
      " 0.0499467  0.0481692  0.06194455 0.10082653 0.10171525 0.12237822\n",
      " 0.11860115 0.1797014  0.17525775 0.16481513 0.17925701 0.13237644\n",
      " 0.14126375 0.11704584 0.11349091 0.1137131  0.14348558 0.16503733\n",
      " 0.17925701 0.20036437 0.16548172 0.16837007 0.16548172 0.14170814\n",
      " 0.1381532  0.16637044 0.16925879 0.16592604 0.18081231 0.18325634\n",
      " 0.19792034 0.22991471 0.21436192 0.20147528 0.17192501 0.16192678\n",
      " 0.17281372 0.18147884 0.19281017 0.20902948 0.19836474 0.22613758\n",
      " 0.19814254 0.17681299 0.1870334  0.1948098  0.17414683 0.19592071\n",
      " 0.19947565 0.1965873  0.19592071 0.19369889 0.19236578 0.20636333\n",
      " 0.2119179  0.24857805 0.24235689 0.21836118 0.20325278 0.21214009\n",
      " 0.22080521 0.21058479 0.2268041  0.24035726 0.26924101 0.277684\n",
      " 0.30345714 0.34678277 0.32534283 0.3324407  0.33187872 0.33090186\n",
      " 0.33078006 0.33146742 0.33262736 0.33386117 0.3348476  0.33541393\n",
      " 0.33553466 0.33528638 0.33479124 0.33417049]\n",
      "14 day output [[0.3335173]]\n",
      "15 day input [0.19169925 0.13993071 0.10238177 0.10549238 0.10393708 0.08571807\n",
      " 0.08038569 0.08682898 0.11882335 0.09149483 0.08460715 0.03528263\n",
      " 0.02417349 0.02683964 0.02039636 0.01550838 0.01795233 0.0499467\n",
      " 0.0481692  0.06194455 0.10082653 0.10171525 0.12237822 0.11860115\n",
      " 0.1797014  0.17525775 0.16481513 0.17925701 0.13237644 0.14126375\n",
      " 0.11704584 0.11349091 0.1137131  0.14348558 0.16503733 0.17925701\n",
      " 0.20036437 0.16548172 0.16837007 0.16548172 0.14170814 0.1381532\n",
      " 0.16637044 0.16925879 0.16592604 0.18081231 0.18325634 0.19792034\n",
      " 0.22991471 0.21436192 0.20147528 0.17192501 0.16192678 0.17281372\n",
      " 0.18147884 0.19281017 0.20902948 0.19836474 0.22613758 0.19814254\n",
      " 0.17681299 0.1870334  0.1948098  0.17414683 0.19592071 0.19947565\n",
      " 0.1965873  0.19592071 0.19369889 0.19236578 0.20636333 0.2119179\n",
      " 0.24857805 0.24235689 0.21836118 0.20325278 0.21214009 0.22080521\n",
      " 0.21058479 0.2268041  0.24035726 0.26924101 0.277684   0.30345714\n",
      " 0.34678277 0.32534283 0.3324407  0.33187872 0.33090186 0.33078006\n",
      " 0.33146742 0.33262736 0.33386117 0.3348476  0.33541393 0.33553466\n",
      " 0.33528638 0.33479124 0.33417049 0.33351731]\n",
      "15 day output [[0.3328883]]\n",
      "16 day input [0.13993071 0.10238177 0.10549238 0.10393708 0.08571807 0.08038569\n",
      " 0.08682898 0.11882335 0.09149483 0.08460715 0.03528263 0.02417349\n",
      " 0.02683964 0.02039636 0.01550838 0.01795233 0.0499467  0.0481692\n",
      " 0.06194455 0.10082653 0.10171525 0.12237822 0.11860115 0.1797014\n",
      " 0.17525775 0.16481513 0.17925701 0.13237644 0.14126375 0.11704584\n",
      " 0.11349091 0.1137131  0.14348558 0.16503733 0.17925701 0.20036437\n",
      " 0.16548172 0.16837007 0.16548172 0.14170814 0.1381532  0.16637044\n",
      " 0.16925879 0.16592604 0.18081231 0.18325634 0.19792034 0.22991471\n",
      " 0.21436192 0.20147528 0.17192501 0.16192678 0.17281372 0.18147884\n",
      " 0.19281017 0.20902948 0.19836474 0.22613758 0.19814254 0.17681299\n",
      " 0.1870334  0.1948098  0.17414683 0.19592071 0.19947565 0.1965873\n",
      " 0.19592071 0.19369889 0.19236578 0.20636333 0.2119179  0.24857805\n",
      " 0.24235689 0.21836118 0.20325278 0.21214009 0.22080521 0.21058479\n",
      " 0.2268041  0.24035726 0.26924101 0.277684   0.30345714 0.34678277\n",
      " 0.32534283 0.3324407  0.33187872 0.33090186 0.33078006 0.33146742\n",
      " 0.33262736 0.33386117 0.3348476  0.33541393 0.33553466 0.33528638\n",
      " 0.33479124 0.33417049 0.33351731 0.33288831]\n"
     ]
    },
    {
     "name": "stdout",
     "output_type": "stream",
     "text": [
      "16 day output [[0.33230802]]\n",
      "17 day input [0.10238177 0.10549238 0.10393708 0.08571807 0.08038569 0.08682898\n",
      " 0.11882335 0.09149483 0.08460715 0.03528263 0.02417349 0.02683964\n",
      " 0.02039636 0.01550838 0.01795233 0.0499467  0.0481692  0.06194455\n",
      " 0.10082653 0.10171525 0.12237822 0.11860115 0.1797014  0.17525775\n",
      " 0.16481513 0.17925701 0.13237644 0.14126375 0.11704584 0.11349091\n",
      " 0.1137131  0.14348558 0.16503733 0.17925701 0.20036437 0.16548172\n",
      " 0.16837007 0.16548172 0.14170814 0.1381532  0.16637044 0.16925879\n",
      " 0.16592604 0.18081231 0.18325634 0.19792034 0.22991471 0.21436192\n",
      " 0.20147528 0.17192501 0.16192678 0.17281372 0.18147884 0.19281017\n",
      " 0.20902948 0.19836474 0.22613758 0.19814254 0.17681299 0.1870334\n",
      " 0.1948098  0.17414683 0.19592071 0.19947565 0.1965873  0.19592071\n",
      " 0.19369889 0.19236578 0.20636333 0.2119179  0.24857805 0.24235689\n",
      " 0.21836118 0.20325278 0.21214009 0.22080521 0.21058479 0.2268041\n",
      " 0.24035726 0.26924101 0.277684   0.30345714 0.34678277 0.32534283\n",
      " 0.3324407  0.33187872 0.33090186 0.33078006 0.33146742 0.33262736\n",
      " 0.33386117 0.3348476  0.33541393 0.33553466 0.33528638 0.33479124\n",
      " 0.33417049 0.33351731 0.33288831 0.33230802]\n",
      "17 day output [[0.33177936]]\n",
      "18 day input [0.10549238 0.10393708 0.08571807 0.08038569 0.08682898 0.11882335\n",
      " 0.09149483 0.08460715 0.03528263 0.02417349 0.02683964 0.02039636\n",
      " 0.01550838 0.01795233 0.0499467  0.0481692  0.06194455 0.10082653\n",
      " 0.10171525 0.12237822 0.11860115 0.1797014  0.17525775 0.16481513\n",
      " 0.17925701 0.13237644 0.14126375 0.11704584 0.11349091 0.1137131\n",
      " 0.14348558 0.16503733 0.17925701 0.20036437 0.16548172 0.16837007\n",
      " 0.16548172 0.14170814 0.1381532  0.16637044 0.16925879 0.16592604\n",
      " 0.18081231 0.18325634 0.19792034 0.22991471 0.21436192 0.20147528\n",
      " 0.17192501 0.16192678 0.17281372 0.18147884 0.19281017 0.20902948\n",
      " 0.19836474 0.22613758 0.19814254 0.17681299 0.1870334  0.1948098\n",
      " 0.17414683 0.19592071 0.19947565 0.1965873  0.19592071 0.19369889\n",
      " 0.19236578 0.20636333 0.2119179  0.24857805 0.24235689 0.21836118\n",
      " 0.20325278 0.21214009 0.22080521 0.21058479 0.2268041  0.24035726\n",
      " 0.26924101 0.277684   0.30345714 0.34678277 0.32534283 0.3324407\n",
      " 0.33187872 0.33090186 0.33078006 0.33146742 0.33262736 0.33386117\n",
      " 0.3348476  0.33541393 0.33553466 0.33528638 0.33479124 0.33417049\n",
      " 0.33351731 0.33288831 0.33230802 0.33177936]\n",
      "18 day output [[0.33129483]]\n",
      "19 day input [0.10393708 0.08571807 0.08038569 0.08682898 0.11882335 0.09149483\n",
      " 0.08460715 0.03528263 0.02417349 0.02683964 0.02039636 0.01550838\n",
      " 0.01795233 0.0499467  0.0481692  0.06194455 0.10082653 0.10171525\n",
      " 0.12237822 0.11860115 0.1797014  0.17525775 0.16481513 0.17925701\n",
      " 0.13237644 0.14126375 0.11704584 0.11349091 0.1137131  0.14348558\n",
      " 0.16503733 0.17925701 0.20036437 0.16548172 0.16837007 0.16548172\n",
      " 0.14170814 0.1381532  0.16637044 0.16925879 0.16592604 0.18081231\n",
      " 0.18325634 0.19792034 0.22991471 0.21436192 0.20147528 0.17192501\n",
      " 0.16192678 0.17281372 0.18147884 0.19281017 0.20902948 0.19836474\n",
      " 0.22613758 0.19814254 0.17681299 0.1870334  0.1948098  0.17414683\n",
      " 0.19592071 0.19947565 0.1965873  0.19592071 0.19369889 0.19236578\n",
      " 0.20636333 0.2119179  0.24857805 0.24235689 0.21836118 0.20325278\n",
      " 0.21214009 0.22080521 0.21058479 0.2268041  0.24035726 0.26924101\n",
      " 0.277684   0.30345714 0.34678277 0.32534283 0.3324407  0.33187872\n",
      " 0.33090186 0.33078006 0.33146742 0.33262736 0.33386117 0.3348476\n",
      " 0.33541393 0.33553466 0.33528638 0.33479124 0.33417049 0.33351731\n",
      " 0.33288831 0.33230802 0.33177936 0.33129483]\n",
      "19 day output [[0.3308449]]\n",
      "20 day input [0.08571807 0.08038569 0.08682898 0.11882335 0.09149483 0.08460715\n",
      " 0.03528263 0.02417349 0.02683964 0.02039636 0.01550838 0.01795233\n",
      " 0.0499467  0.0481692  0.06194455 0.10082653 0.10171525 0.12237822\n",
      " 0.11860115 0.1797014  0.17525775 0.16481513 0.17925701 0.13237644\n",
      " 0.14126375 0.11704584 0.11349091 0.1137131  0.14348558 0.16503733\n",
      " 0.17925701 0.20036437 0.16548172 0.16837007 0.16548172 0.14170814\n",
      " 0.1381532  0.16637044 0.16925879 0.16592604 0.18081231 0.18325634\n",
      " 0.19792034 0.22991471 0.21436192 0.20147528 0.17192501 0.16192678\n",
      " 0.17281372 0.18147884 0.19281017 0.20902948 0.19836474 0.22613758\n",
      " 0.19814254 0.17681299 0.1870334  0.1948098  0.17414683 0.19592071\n",
      " 0.19947565 0.1965873  0.19592071 0.19369889 0.19236578 0.20636333\n",
      " 0.2119179  0.24857805 0.24235689 0.21836118 0.20325278 0.21214009\n",
      " 0.22080521 0.21058479 0.2268041  0.24035726 0.26924101 0.277684\n",
      " 0.30345714 0.34678277 0.32534283 0.3324407  0.33187872 0.33090186\n",
      " 0.33078006 0.33146742 0.33262736 0.33386117 0.3348476  0.33541393\n",
      " 0.33553466 0.33528638 0.33479124 0.33417049 0.33351731 0.33288831\n",
      " 0.33230802 0.33177936 0.33129483 0.33084491]\n",
      "20 day output [[0.33042276]]\n",
      "21 day input [0.08038569 0.08682898 0.11882335 0.09149483 0.08460715 0.03528263\n",
      " 0.02417349 0.02683964 0.02039636 0.01550838 0.01795233 0.0499467\n",
      " 0.0481692  0.06194455 0.10082653 0.10171525 0.12237822 0.11860115\n",
      " 0.1797014  0.17525775 0.16481513 0.17925701 0.13237644 0.14126375\n",
      " 0.11704584 0.11349091 0.1137131  0.14348558 0.16503733 0.17925701\n",
      " 0.20036437 0.16548172 0.16837007 0.16548172 0.14170814 0.1381532\n",
      " 0.16637044 0.16925879 0.16592604 0.18081231 0.18325634 0.19792034\n",
      " 0.22991471 0.21436192 0.20147528 0.17192501 0.16192678 0.17281372\n",
      " 0.18147884 0.19281017 0.20902948 0.19836474 0.22613758 0.19814254\n",
      " 0.17681299 0.1870334  0.1948098  0.17414683 0.19592071 0.19947565\n",
      " 0.1965873  0.19592071 0.19369889 0.19236578 0.20636333 0.2119179\n",
      " 0.24857805 0.24235689 0.21836118 0.20325278 0.21214009 0.22080521\n",
      " 0.21058479 0.2268041  0.24035726 0.26924101 0.277684   0.30345714\n",
      " 0.34678277 0.32534283 0.3324407  0.33187872 0.33090186 0.33078006\n",
      " 0.33146742 0.33262736 0.33386117 0.3348476  0.33541393 0.33553466\n",
      " 0.33528638 0.33479124 0.33417049 0.33351731 0.33288831 0.33230802\n",
      " 0.33177936 0.33129483 0.33084491 0.33042276]\n",
      "21 day output [[0.33002576]]\n",
      "22 day input [0.08682898 0.11882335 0.09149483 0.08460715 0.03528263 0.02417349\n",
      " 0.02683964 0.02039636 0.01550838 0.01795233 0.0499467  0.0481692\n",
      " 0.06194455 0.10082653 0.10171525 0.12237822 0.11860115 0.1797014\n",
      " 0.17525775 0.16481513 0.17925701 0.13237644 0.14126375 0.11704584\n",
      " 0.11349091 0.1137131  0.14348558 0.16503733 0.17925701 0.20036437\n",
      " 0.16548172 0.16837007 0.16548172 0.14170814 0.1381532  0.16637044\n",
      " 0.16925879 0.16592604 0.18081231 0.18325634 0.19792034 0.22991471\n",
      " 0.21436192 0.20147528 0.17192501 0.16192678 0.17281372 0.18147884\n",
      " 0.19281017 0.20902948 0.19836474 0.22613758 0.19814254 0.17681299\n",
      " 0.1870334  0.1948098  0.17414683 0.19592071 0.19947565 0.1965873\n",
      " 0.19592071 0.19369889 0.19236578 0.20636333 0.2119179  0.24857805\n",
      " 0.24235689 0.21836118 0.20325278 0.21214009 0.22080521 0.21058479\n",
      " 0.2268041  0.24035726 0.26924101 0.277684   0.30345714 0.34678277\n",
      " 0.32534283 0.3324407  0.33187872 0.33090186 0.33078006 0.33146742\n",
      " 0.33262736 0.33386117 0.3348476  0.33541393 0.33553466 0.33528638\n",
      " 0.33479124 0.33417049 0.33351731 0.33288831 0.33230802 0.33177936\n",
      " 0.33129483 0.33084491 0.33042276 0.33002576]\n",
      "22 day output [[0.3296547]]\n",
      "23 day input [0.11882335 0.09149483 0.08460715 0.03528263 0.02417349 0.02683964\n",
      " 0.02039636 0.01550838 0.01795233 0.0499467  0.0481692  0.06194455\n",
      " 0.10082653 0.10171525 0.12237822 0.11860115 0.1797014  0.17525775\n",
      " 0.16481513 0.17925701 0.13237644 0.14126375 0.11704584 0.11349091\n",
      " 0.1137131  0.14348558 0.16503733 0.17925701 0.20036437 0.16548172\n",
      " 0.16837007 0.16548172 0.14170814 0.1381532  0.16637044 0.16925879\n",
      " 0.16592604 0.18081231 0.18325634 0.19792034 0.22991471 0.21436192\n",
      " 0.20147528 0.17192501 0.16192678 0.17281372 0.18147884 0.19281017\n",
      " 0.20902948 0.19836474 0.22613758 0.19814254 0.17681299 0.1870334\n",
      " 0.1948098  0.17414683 0.19592071 0.19947565 0.1965873  0.19592071\n",
      " 0.19369889 0.19236578 0.20636333 0.2119179  0.24857805 0.24235689\n",
      " 0.21836118 0.20325278 0.21214009 0.22080521 0.21058479 0.2268041\n",
      " 0.24035726 0.26924101 0.277684   0.30345714 0.34678277 0.32534283\n",
      " 0.3324407  0.33187872 0.33090186 0.33078006 0.33146742 0.33262736\n",
      " 0.33386117 0.3348476  0.33541393 0.33553466 0.33528638 0.33479124\n",
      " 0.33417049 0.33351731 0.33288831 0.33230802 0.33177936 0.33129483\n",
      " 0.33084491 0.33042276 0.33002576 0.32965469]\n",
      "23 day output [[0.3293121]]\n",
      "24 day input [0.09149483 0.08460715 0.03528263 0.02417349 0.02683964 0.02039636\n",
      " 0.01550838 0.01795233 0.0499467  0.0481692  0.06194455 0.10082653\n",
      " 0.10171525 0.12237822 0.11860115 0.1797014  0.17525775 0.16481513\n",
      " 0.17925701 0.13237644 0.14126375 0.11704584 0.11349091 0.1137131\n",
      " 0.14348558 0.16503733 0.17925701 0.20036437 0.16548172 0.16837007\n",
      " 0.16548172 0.14170814 0.1381532  0.16637044 0.16925879 0.16592604\n",
      " 0.18081231 0.18325634 0.19792034 0.22991471 0.21436192 0.20147528\n",
      " 0.17192501 0.16192678 0.17281372 0.18147884 0.19281017 0.20902948\n",
      " 0.19836474 0.22613758 0.19814254 0.17681299 0.1870334  0.1948098\n",
      " 0.17414683 0.19592071 0.19947565 0.1965873  0.19592071 0.19369889\n",
      " 0.19236578 0.20636333 0.2119179  0.24857805 0.24235689 0.21836118\n",
      " 0.20325278 0.21214009 0.22080521 0.21058479 0.2268041  0.24035726\n",
      " 0.26924101 0.277684   0.30345714 0.34678277 0.32534283 0.3324407\n",
      " 0.33187872 0.33090186 0.33078006 0.33146742 0.33262736 0.33386117\n",
      " 0.3348476  0.33541393 0.33553466 0.33528638 0.33479124 0.33417049\n",
      " 0.33351731 0.33288831 0.33230802 0.33177936 0.33129483 0.33084491\n",
      " 0.33042276 0.33002576 0.32965469 0.32931209]\n"
     ]
    },
    {
     "name": "stdout",
     "output_type": "stream",
     "text": [
      "24 day output [[0.32900068]]\n",
      "25 day input [0.08460715 0.03528263 0.02417349 0.02683964 0.02039636 0.01550838\n",
      " 0.01795233 0.0499467  0.0481692  0.06194455 0.10082653 0.10171525\n",
      " 0.12237822 0.11860115 0.1797014  0.17525775 0.16481513 0.17925701\n",
      " 0.13237644 0.14126375 0.11704584 0.11349091 0.1137131  0.14348558\n",
      " 0.16503733 0.17925701 0.20036437 0.16548172 0.16837007 0.16548172\n",
      " 0.14170814 0.1381532  0.16637044 0.16925879 0.16592604 0.18081231\n",
      " 0.18325634 0.19792034 0.22991471 0.21436192 0.20147528 0.17192501\n",
      " 0.16192678 0.17281372 0.18147884 0.19281017 0.20902948 0.19836474\n",
      " 0.22613758 0.19814254 0.17681299 0.1870334  0.1948098  0.17414683\n",
      " 0.19592071 0.19947565 0.1965873  0.19592071 0.19369889 0.19236578\n",
      " 0.20636333 0.2119179  0.24857805 0.24235689 0.21836118 0.20325278\n",
      " 0.21214009 0.22080521 0.21058479 0.2268041  0.24035726 0.26924101\n",
      " 0.277684   0.30345714 0.34678277 0.32534283 0.3324407  0.33187872\n",
      " 0.33090186 0.33078006 0.33146742 0.33262736 0.33386117 0.3348476\n",
      " 0.33541393 0.33553466 0.33528638 0.33479124 0.33417049 0.33351731\n",
      " 0.33288831 0.33230802 0.33177936 0.33129483 0.33084491 0.33042276\n",
      " 0.33002576 0.32965469 0.32931209 0.32900068]\n",
      "25 day output [[0.3287222]]\n",
      "26 day input [0.03528263 0.02417349 0.02683964 0.02039636 0.01550838 0.01795233\n",
      " 0.0499467  0.0481692  0.06194455 0.10082653 0.10171525 0.12237822\n",
      " 0.11860115 0.1797014  0.17525775 0.16481513 0.17925701 0.13237644\n",
      " 0.14126375 0.11704584 0.11349091 0.1137131  0.14348558 0.16503733\n",
      " 0.17925701 0.20036437 0.16548172 0.16837007 0.16548172 0.14170814\n",
      " 0.1381532  0.16637044 0.16925879 0.16592604 0.18081231 0.18325634\n",
      " 0.19792034 0.22991471 0.21436192 0.20147528 0.17192501 0.16192678\n",
      " 0.17281372 0.18147884 0.19281017 0.20902948 0.19836474 0.22613758\n",
      " 0.19814254 0.17681299 0.1870334  0.1948098  0.17414683 0.19592071\n",
      " 0.19947565 0.1965873  0.19592071 0.19369889 0.19236578 0.20636333\n",
      " 0.2119179  0.24857805 0.24235689 0.21836118 0.20325278 0.21214009\n",
      " 0.22080521 0.21058479 0.2268041  0.24035726 0.26924101 0.277684\n",
      " 0.30345714 0.34678277 0.32534283 0.3324407  0.33187872 0.33090186\n",
      " 0.33078006 0.33146742 0.33262736 0.33386117 0.3348476  0.33541393\n",
      " 0.33553466 0.33528638 0.33479124 0.33417049 0.33351731 0.33288831\n",
      " 0.33230802 0.33177936 0.33129483 0.33084491 0.33042276 0.33002576\n",
      " 0.32965469 0.32931209 0.32900068 0.32872221]\n",
      "26 day output [[0.32847694]]\n",
      "27 day input [0.02417349 0.02683964 0.02039636 0.01550838 0.01795233 0.0499467\n",
      " 0.0481692  0.06194455 0.10082653 0.10171525 0.12237822 0.11860115\n",
      " 0.1797014  0.17525775 0.16481513 0.17925701 0.13237644 0.14126375\n",
      " 0.11704584 0.11349091 0.1137131  0.14348558 0.16503733 0.17925701\n",
      " 0.20036437 0.16548172 0.16837007 0.16548172 0.14170814 0.1381532\n",
      " 0.16637044 0.16925879 0.16592604 0.18081231 0.18325634 0.19792034\n",
      " 0.22991471 0.21436192 0.20147528 0.17192501 0.16192678 0.17281372\n",
      " 0.18147884 0.19281017 0.20902948 0.19836474 0.22613758 0.19814254\n",
      " 0.17681299 0.1870334  0.1948098  0.17414683 0.19592071 0.19947565\n",
      " 0.1965873  0.19592071 0.19369889 0.19236578 0.20636333 0.2119179\n",
      " 0.24857805 0.24235689 0.21836118 0.20325278 0.21214009 0.22080521\n",
      " 0.21058479 0.2268041  0.24035726 0.26924101 0.277684   0.30345714\n",
      " 0.34678277 0.32534283 0.3324407  0.33187872 0.33090186 0.33078006\n",
      " 0.33146742 0.33262736 0.33386117 0.3348476  0.33541393 0.33553466\n",
      " 0.33528638 0.33479124 0.33417049 0.33351731 0.33288831 0.33230802\n",
      " 0.33177936 0.33129483 0.33084491 0.33042276 0.33002576 0.32965469\n",
      " 0.32931209 0.32900068 0.32872221 0.32847694]\n",
      "27 day output [[0.32826376]]\n",
      "28 day input [0.02683964 0.02039636 0.01550838 0.01795233 0.0499467  0.0481692\n",
      " 0.06194455 0.10082653 0.10171525 0.12237822 0.11860115 0.1797014\n",
      " 0.17525775 0.16481513 0.17925701 0.13237644 0.14126375 0.11704584\n",
      " 0.11349091 0.1137131  0.14348558 0.16503733 0.17925701 0.20036437\n",
      " 0.16548172 0.16837007 0.16548172 0.14170814 0.1381532  0.16637044\n",
      " 0.16925879 0.16592604 0.18081231 0.18325634 0.19792034 0.22991471\n",
      " 0.21436192 0.20147528 0.17192501 0.16192678 0.17281372 0.18147884\n",
      " 0.19281017 0.20902948 0.19836474 0.22613758 0.19814254 0.17681299\n",
      " 0.1870334  0.1948098  0.17414683 0.19592071 0.19947565 0.1965873\n",
      " 0.19592071 0.19369889 0.19236578 0.20636333 0.2119179  0.24857805\n",
      " 0.24235689 0.21836118 0.20325278 0.21214009 0.22080521 0.21058479\n",
      " 0.2268041  0.24035726 0.26924101 0.277684   0.30345714 0.34678277\n",
      " 0.32534283 0.3324407  0.33187872 0.33090186 0.33078006 0.33146742\n",
      " 0.33262736 0.33386117 0.3348476  0.33541393 0.33553466 0.33528638\n",
      " 0.33479124 0.33417049 0.33351731 0.33288831 0.33230802 0.33177936\n",
      " 0.33129483 0.33084491 0.33042276 0.33002576 0.32965469 0.32931209\n",
      " 0.32900068 0.32872221 0.32847694 0.32826376]\n",
      "28 day output [[0.3280806]]\n",
      "29 day input [0.02039636 0.01550838 0.01795233 0.0499467  0.0481692  0.06194455\n",
      " 0.10082653 0.10171525 0.12237822 0.11860115 0.1797014  0.17525775\n",
      " 0.16481513 0.17925701 0.13237644 0.14126375 0.11704584 0.11349091\n",
      " 0.1137131  0.14348558 0.16503733 0.17925701 0.20036437 0.16548172\n",
      " 0.16837007 0.16548172 0.14170814 0.1381532  0.16637044 0.16925879\n",
      " 0.16592604 0.18081231 0.18325634 0.19792034 0.22991471 0.21436192\n",
      " 0.20147528 0.17192501 0.16192678 0.17281372 0.18147884 0.19281017\n",
      " 0.20902948 0.19836474 0.22613758 0.19814254 0.17681299 0.1870334\n",
      " 0.1948098  0.17414683 0.19592071 0.19947565 0.1965873  0.19592071\n",
      " 0.19369889 0.19236578 0.20636333 0.2119179  0.24857805 0.24235689\n",
      " 0.21836118 0.20325278 0.21214009 0.22080521 0.21058479 0.2268041\n",
      " 0.24035726 0.26924101 0.277684   0.30345714 0.34678277 0.32534283\n",
      " 0.3324407  0.33187872 0.33090186 0.33078006 0.33146742 0.33262736\n",
      " 0.33386117 0.3348476  0.33541393 0.33553466 0.33528638 0.33479124\n",
      " 0.33417049 0.33351731 0.33288831 0.33230802 0.33177936 0.33129483\n",
      " 0.33084491 0.33042276 0.33002576 0.32965469 0.32931209 0.32900068\n",
      " 0.32872221 0.32847694 0.32826376 0.32808059]\n",
      "29 day output [[0.32792467]]\n",
      "[[0.3253428339958191], [0.33244070410728455], [0.3318787217140198], [0.3309018611907959], [0.3307800590991974], [0.3314674198627472], [0.3326273560523987], [0.33386117219924927], [0.3348475992679596], [0.33541393280029297], [0.3355346620082855], [0.33528637886047363], [0.33479124307632446], [0.33417049050331116], [0.33351731300354004], [0.33288830518722534], [0.3323080241680145], [0.3317793607711792], [0.33129483461380005], [0.330844908952713], [0.3304227590560913], [0.3300257623195648], [0.3296546936035156], [0.3293120861053467], [0.32900068163871765], [0.328722208738327], [0.3284769356250763], [0.3282637596130371], [0.32808059453964233], [0.3279246687889099]]\n"
     ]
    }
   ],
   "source": [
    "#  prediction for next 30 days\n",
    "from numpy import array\n",
    "\n",
    "lst_output=[]\n",
    "n_steps=100\n",
    "i=0\n",
    "while(i<30):\n",
    "    \n",
    "    if(len(temp_input)>100):\n",
    "        x_input=np.array(temp_input[1:])\n",
    "        print(\"{} day input {}\".format(i,x_input))\n",
    "        x_input=x_input.reshape(1,-1)\n",
    "        x_input = x_input.reshape((1, n_steps, 1))\n",
    "        yhat = model.predict(x_input, verbose=0)\n",
    "        print(\"{} day output {}\".format(i,yhat))\n",
    "        temp_input.extend(yhat[0].tolist())\n",
    "        temp_input=temp_input[1:]\n",
    "        lst_output.extend(yhat.tolist())\n",
    "        i=i+1\n",
    "    else:\n",
    "        x_input = x_input.reshape((1, n_steps,1))\n",
    "        yhat = model.predict(x_input, verbose=0)\n",
    "        print(yhat[0])\n",
    "        temp_input.extend(yhat[0].tolist())\n",
    "        print(len(temp_input))\n",
    "        lst_output.extend(yhat.tolist())\n",
    "        i=i+1\n",
    "    \n",
    "\n",
    "print(lst_output)"
   ]
  },
  {
   "cell_type": "code",
   "execution_count": 32,
   "metadata": {},
   "outputs": [],
   "source": [
    "day_new=np.arange(1,101)\n",
    "day_pred=np.arange(101,131)"
   ]
  },
  {
   "cell_type": "code",
   "execution_count": 33,
   "metadata": {},
   "outputs": [
    {
     "data": {
      "text/plain": [
       "2624"
      ]
     },
     "execution_count": 33,
     "metadata": {},
     "output_type": "execute_result"
    }
   ],
   "source": [
    "len(df1)"
   ]
  },
  {
   "cell_type": "code",
   "execution_count": 34,
   "metadata": {},
   "outputs": [
    {
     "data": {
      "text/plain": [
       "[<matplotlib.lines.Line2D at 0x1b4e8974d48>]"
      ]
     },
     "execution_count": 34,
     "metadata": {},
     "output_type": "execute_result"
    },
    {
     "data": {
      "image/png": "[encoded data removed]",
      "text/plain": [
       "<Figure size 432x288 with 1 Axes>"
      ]
     },
     "metadata": {
      "needs_background": "light"
     },
     "output_type": "display_data"
    }
   ],
   "source": [
    "import matplotlib.pyplot as plt\n",
    "plt.plot(day_new,scaler.inverse_transform(df2[2524:]))\n",
    "plt.plot(day_pred,scaler.inverse_transform(lst_output))"
   ]
  },
  {
   "cell_type": "code",
   "execution_count": 35,
   "metadata": {},
   "outputs": [
    {
     "data": {
      "text/plain": [
       "[<matplotlib.lines.Line2D at 0x1b53b1a5448>]"
      ]
     },
     "execution_count": 35,
     "metadata": {},
     "output_type": "execute_result"
    },
    {
     "data": {
      "image/png": "[encoded data removed]",
      "text/plain": [
       "<Figure size 432x288 with 1 Axes>"
      ]
     },
     "metadata": {
      "needs_background": "light"
     },
     "output_type": "display_data"
    }
   ],
   "source": [
    "df3=df2.tolist()\n",
    "df3.extend(lst_output)\n",
    "plt.plot(df3[2500:])"
   ]
  },
  {
   "cell_type": "code",
   "execution_count": 36,
   "metadata": {},
   "outputs": [],
   "source": [
    "df3=scaler.inverse_transform(df3).tolist()"
   ]
  },
  {
   "cell_type": "code",
   "execution_count": 37,
   "metadata": {},
   "outputs": [
    {
     "data": {
      "text/plain": [
       "[<matplotlib.lines.Line2D at 0x1b5192ee408>]"
      ]
     },
     "execution_count": 37,
     "metadata": {},
     "output_type": "execute_result"
    },
    {
     "data": {
      "image/png": "[encoded data removed]",
      "text/plain": [
       "<Figure size 432x288 with 1 Axes>"
      ]
     },
     "metadata": {
      "needs_background": "light"
     },
     "output_type": "display_data"
    }
   ],
   "source": [
    "plt.plot(df3)"
   ]
  }
 ],
 "metadata": {
  "kernelspec": {
   "display_name": "Python 3",
   "language": "python",
   "name": "python3"
  },
  "language_info": {
   "codemirror_mode": {
    "name": "ipython",
    "version": 3
   },
   "file_extension": ".py",
   "mimetype": "text/x-python",
   "name": "python",
   "nbconvert_exporter": "python",
   "pygments_lexer": "ipython3",
   "version": "3.7.9"
  }
 },
 "nbformat": 4,
 "nbformat_minor": 4
}
